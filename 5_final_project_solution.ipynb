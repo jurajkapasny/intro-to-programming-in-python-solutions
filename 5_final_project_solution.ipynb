{
 "cells": [
  {
   "cell_type": "markdown",
   "metadata": {
    "tags": []
   },
   "source": [
    "# Final Project"
   ]
  },
  {
   "cell_type": "markdown",
   "metadata": {
    "tags": []
   },
   "source": [
    "## Library Management System:\n",
    "\n",
    "A simple system that keeps track of books in a library. Books can be stored as dictionaries with details like title, author, and whether it’s currently checked out. These books could be stored in a list, and you can write functions to check books in and out, search for books by title or author, etc."
   ]
  },
  {
   "cell_type": "code",
   "execution_count": null,
   "metadata": {},
   "outputs": [],
   "source": [
    "# Our library is a list of books\n",
    "library = []"
   ]
  },
  {
   "cell_type": "markdown",
   "metadata": {},
   "source": [
    "## Task 1 \n",
    "Define function **add_book(library, title, author)** that allows user to store book (defined with title and author) in the specified library. Don't forget to specify if book is currently checked out."
   ]
  },
  {
   "cell_type": "code",
   "execution_count": null,
   "metadata": {},
   "outputs": [],
   "source": [
    "# Each book is a dictionary with title, author, and checked_out status"
   ]
  },
  {
   "cell_type": "code",
   "execution_count": null,
   "metadata": {},
   "outputs": [],
   "source": [
    "def add_book(library, title, author):\n",
    "    book = {\"title\": title, \"author\": author, \"checked_out\": False}\n",
    "    library.append(book)"
   ]
  },
  {
   "cell_type": "code",
   "execution_count": null,
   "metadata": {},
   "outputs": [],
   "source": []
  },
  {
   "cell_type": "code",
   "execution_count": null,
   "metadata": {},
   "outputs": [],
   "source": []
  },
  {
   "cell_type": "markdown",
   "metadata": {},
   "source": [
    "## Task 2\n",
    "Define function **check_out(library, title)** that allows to check out book by title from the specified library. Don't forget to check if the book is in the library beforehead."
   ]
  },
  {
   "cell_type": "code",
   "execution_count": null,
   "metadata": {},
   "outputs": [],
   "source": [
    "def check_out(library, title):\n",
    "    for book in library:\n",
    "        if book[\"title\"] == title:\n",
    "            if not book[\"checked_out\"]:\n",
    "                book[\"checked_out\"] = True\n",
    "                print(f\"You've checked out {title}.\")\n",
    "            else:\n",
    "                print(f\"The book {title} is already checked out.\")\n",
    "            return\n",
    "    print(f\"The book {title} doesn't exist in this library.\")"
   ]
  },
  {
   "cell_type": "code",
   "execution_count": null,
   "metadata": {},
   "outputs": [],
   "source": []
  },
  {
   "cell_type": "code",
   "execution_count": null,
   "metadata": {},
   "outputs": [],
   "source": []
  },
  {
   "cell_type": "markdown",
   "metadata": {},
   "source": [
    "## Task 3\n",
    "Define function **check_in(library, title)** that allows to check in book by title from the specified library. Don't forget to check if the book is in the library beforehead."
   ]
  },
  {
   "cell_type": "code",
   "execution_count": null,
   "metadata": {},
   "outputs": [],
   "source": [
    "def check_in(library, title):\n",
    "    for book in library:\n",
    "        if book[\"title\"] == title:\n",
    "            if book[\"checked_out\"]:\n",
    "                book[\"checked_out\"] = False\n",
    "                print(f\"You've checked in {title}.\")\n",
    "            else:\n",
    "                print(f\"The book {title} is already checked in.\")\n",
    "            return\n",
    "    print(f\"The book {title} doesn't exist in this library.\")"
   ]
  },
  {
   "cell_type": "code",
   "execution_count": null,
   "metadata": {},
   "outputs": [],
   "source": []
  },
  {
   "cell_type": "code",
   "execution_count": null,
   "metadata": {},
   "outputs": [],
   "source": []
  },
  {
   "cell_type": "markdown",
   "metadata": {},
   "source": [
    "## Task 4\n",
    "Define function **show_books(library)** that prints out all books from the specified library together with their status (avialable or checked out)"
   ]
  },
  {
   "cell_type": "code",
   "execution_count": null,
   "metadata": {},
   "outputs": [],
   "source": [
    "def show_books(library):\n",
    "    for book in library:\n",
    "        status = \"checked out\" if book[\"checked_out\"] else \"available\"\n",
    "        print(f\"Title: {book['title']}, Author: {book['author']}, Status: {status}\")"
   ]
  },
  {
   "cell_type": "code",
   "execution_count": null,
   "metadata": {},
   "outputs": [],
   "source": []
  },
  {
   "cell_type": "code",
   "execution_count": null,
   "metadata": {},
   "outputs": [],
   "source": []
  },
  {
   "cell_type": "markdown",
   "metadata": {},
   "source": [
    "## Final test"
   ]
  },
  {
   "cell_type": "code",
   "execution_count": null,
   "metadata": {},
   "outputs": [],
   "source": [
    "# Add some books\n",
    "add_book(library, \"1984\", \"George Orwell\")\n",
    "add_book(library, \"To Kill a Mockingbird\", \"Harper Lee\")\n",
    "add_book(library, \"The Great Gatsby\", \"F. Scott Fitzgerald\")"
   ]
  },
  {
   "cell_type": "code",
   "execution_count": null,
   "metadata": {},
   "outputs": [],
   "source": [
    "# Show all books\n",
    "show_books(library)"
   ]
  },
  {
   "cell_type": "code",
   "execution_count": null,
   "metadata": {},
   "outputs": [],
   "source": [
    "# Check out a book\n",
    "check_out(library, \"1984\")"
   ]
  },
  {
   "cell_type": "code",
   "execution_count": null,
   "metadata": {},
   "outputs": [],
   "source": [
    "# Check in a book\n",
    "check_in(library, \"1984\")"
   ]
  },
  {
   "cell_type": "code",
   "execution_count": null,
   "metadata": {},
   "outputs": [],
   "source": [
    "# Show all books\n",
    "show_books(library)"
   ]
  },
  {
   "cell_type": "code",
   "execution_count": null,
   "metadata": {},
   "outputs": [],
   "source": []
  },
  {
   "cell_type": "code",
   "execution_count": null,
   "metadata": {},
   "outputs": [],
   "source": []
  }
 ],
 "metadata": {
  "kernelspec": {
   "display_name": "Python 3 (ipykernel)",
   "language": "python",
   "name": "python3"
  },
  "language_info": {
   "codemirror_mode": {
    "name": "ipython",
    "version": 3
   },
   "file_extension": ".py",
   "mimetype": "text/x-python",
   "name": "python",
   "nbconvert_exporter": "python",
   "pygments_lexer": "ipython3",
   "version": "3.9.7"
  }
 },
 "nbformat": 4,
 "nbformat_minor": 4
}
